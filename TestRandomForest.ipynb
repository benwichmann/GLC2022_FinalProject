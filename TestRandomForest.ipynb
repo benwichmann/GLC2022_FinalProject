{
  "nbformat": 4,
  "nbformat_minor": 0,
  "metadata": {
    "colab": {
      "name": "TestRandomForest.ipynb",
      "provenance": [],
      "collapsed_sections": [],
      "machine_shape": "hm",
      "mount_file_id": "1524AdPSzEzGNpY-Gj8ajB_OoJ-sywcwG",
      "authorship_tag": "ABX9TyPDKxRmy1MoHmdjd9EUpqw5",
      "include_colab_link": true
    },
    "kernelspec": {
      "name": "python3",
      "display_name": "Python 3"
    },
    "language_info": {
      "name": "python"
    }
  },
  "cells": [
    {
      "cell_type": "markdown",
      "metadata": {
        "id": "view-in-github",
        "colab_type": "text"
      },
      "source": [
        "<a href=\"https://colab.research.google.com/github/benwichmann/GLC2022_FinalProject/blob/main/TestRandomForest.ipynb\" target=\"_parent\"><img src=\"https://colab.research.google.com/assets/colab-badge.svg\" alt=\"Open In Colab\"/></a>"
      ]
    },
    {
      "cell_type": "code",
      "execution_count": 2,
      "metadata": {
        "colab": {
          "base_uri": "https://localhost:8080/"
        },
        "id": "m_yf5oeRENnL",
        "outputId": "a268fda7-5518-4d57-d222-7aa1d49b4671"
      },
      "outputs": [
        {
          "output_type": "stream",
          "name": "stdout",
          "text": [
            "⏬ Downloading https://github.com/jaimergp/miniforge/releases/latest/download/Mambaforge-colab-Linux-x86_64.sh...\n",
            "📦 Installing...\n",
            "📌 Adjusting configuration...\n",
            "🩹 Patching environment...\n",
            "⏲ Done in 0:00:24\n",
            "🔁 Restarting kernel...\n"
          ]
        }
      ],
      "source": [
        "!pip install -q condacolab\n",
        "import condacolab\n",
        "condacolab.install()"
      ]
    },
    {
      "cell_type": "code",
      "source": [
        "!conda --version\n",
        "!which conda"
      ],
      "metadata": {
        "colab": {
          "base_uri": "https://localhost:8080/"
        },
        "id": "IubFIOikEh79",
        "outputId": "a40b1401-0113-4f0f-eae9-a3d1ff7201ff"
      },
      "execution_count": 10,
      "outputs": [
        {
          "output_type": "stream",
          "name": "stdout",
          "text": [
            "conda 4.9.2\n",
            "/usr/local/bin/conda\n"
          ]
        }
      ]
    },
    {
      "cell_type": "code",
      "source": [
        "#!conda create --name firstEnv\n",
        "\n",
        "#!conda env update -n base -f environment.yml\n",
        "# activate your conda environment\n",
        "%%bash\n",
        "source activate firstEnv\n",
        "python\n",
        "\n",
        "# python commands are ready to run within your environment\n",
        "import sys\n",
        "print(\"Python version\")\n",
        "print (sys.version)"
      ],
      "metadata": {
        "colab": {
          "base_uri": "https://localhost:8080/"
        },
        "id": "4I12EaEOEpur",
        "outputId": "c02928bf-a2cd-4040-8b7f-78dbfa7e017c"
      },
      "execution_count": 2,
      "outputs": [
        {
          "output_type": "stream",
          "name": "stdout",
          "text": [
            "Python version\n",
            "3.7.10 | packaged by conda-forge | (default, Feb 19 2021, 16:07:37) \n",
            "[GCC 9.3.0]\n"
          ]
        },
        {
          "output_type": "stream",
          "name": "stderr",
          "text": [
            "Could not find conda environment: firstEnv\n",
            "You can list all discoverable environments with `conda info --envs`.\n",
            "\n"
          ]
        }
      ]
    },
    {
      "cell_type": "code",
      "source": [
        "!rm -rf GLC2022_FinalProject\n",
        "!git clone https://github.com/benwichmann/GLC2022_FinalProject.git"
      ],
      "metadata": {
        "colab": {
          "base_uri": "https://localhost:8080/"
        },
        "id": "sxCPwbF8Er90",
        "outputId": "531faab8-b758-45c8-86e4-8e25135d6753"
      },
      "execution_count": 3,
      "outputs": [
        {
          "output_type": "stream",
          "name": "stdout",
          "text": [
            "Cloning into 'GLC2022_FinalProject'...\n",
            "remote: Enumerating objects: 65, done.\u001b[K\n",
            "remote: Counting objects: 100% (65/65), done.\u001b[K\n",
            "remote: Compressing objects: 100% (57/57), done.\u001b[K\n",
            "remote: Total 65 (delta 10), reused 50 (delta 5), pack-reused 0\u001b[K\n",
            "Unpacking objects: 100% (65/65), done.\n"
          ]
        }
      ]
    },
    {
      "cell_type": "code",
      "source": [
        "!pip install -r GLC2022_FinalProject/requirements2.txt"
      ],
      "metadata": {
        "id": "QW7lKsDpEtbU"
      },
      "execution_count": null,
      "outputs": []
    },
    {
      "cell_type": "code",
      "source": [
        "!pip uninstall -y shapely\n",
        "!pip install shapely --no-binary shapely"
      ],
      "metadata": {
        "id": "_H8yoqrkEuju"
      },
      "execution_count": null,
      "outputs": []
    },
    {
      "cell_type": "markdown",
      "source": [
        "#Import Enviroment Modules and Variabls"
      ],
      "metadata": {
        "id": "IhrQfokGRQL9"
      }
    },
    {
      "cell_type": "code",
      "source": [
        "%pylab inline --no-import-all\n",
        "from pathlib import Path\n",
        "DATA_PATH = Path(\"/content/drive/MyDrive/ds3/\")\n",
        "\n",
        "import matplotlib.pyplot as plt\n",
        "%matplotlib inline\n",
        "import rasterio\n",
        "import numpy as np\n",
        "import os\n",
        "import pandas as pd\n",
        "from sklearn.ensemble import RandomForestClassifier\n",
        "from sklearn.model_selection import train_test_split\n",
        "\n",
        "from GLC2022_FinalProject.GLC.plotting import plot_map\n",
        "from GLC2022_FinalProject.GLC.data_loading.environmental_raster import PatchExtractor\n"
      ],
      "metadata": {
        "colab": {
          "base_uri": "https://localhost:8080/"
        },
        "id": "p5I5YmliE3Rb",
        "outputId": "d3fdc38e-2037-4d27-a08c-945e654da869"
      },
      "execution_count": 11,
      "outputs": [
        {
          "output_type": "stream",
          "name": "stdout",
          "text": [
            "Populating the interactive namespace from numpy and matplotlib\n"
          ]
        }
      ]
    },
    {
      "cell_type": "code",
      "source": [
        "DATA_PATH = Path(\"/content/drive/MyDrive/ds3/\")\n",
        "\n",
        "df_obs_us = pd.read_csv(DATA_PATH / \"observations\" / \"observations_us_train.csv\", sep=\";\")#, index_col=\"observation_id\")\n",
        "df_obs_fr = pd.read_csv(DATA_PATH / \"observations\" / \"observations_fr_train.csv\", sep=\";\")#, index_col=\"observation_id\")\n",
        "df_obs = pd.concat((df_obs_fr, df_obs_us))\n",
        "print(\"Number of observations for training FR: {}\".format(len(df_obs_us)))\n",
        "print(\"Number of observations for training US: {}\".format(len(df_obs_fr)))\n",
        "print(\"Number of observations for testingtot: {}\".format(len(df_obs)))"
      ],
      "metadata": {
        "colab": {
          "base_uri": "https://localhost:8080/"
        },
        "id": "sdjKex2KFPLX",
        "outputId": "6193bf71-16b5-4b17-ec4b-2465335bfb42"
      },
      "execution_count": 63,
      "outputs": [
        {
          "output_type": "stream",
          "name": "stdout",
          "text": [
            "Number of observations for training FR: 956231\n",
            "Number of observations for training US: 671244\n",
            "Number of observations for testingtot: 1627475\n"
          ]
        }
      ]
    },
    {
      "cell_type": "markdown",
      "source": [
        "#Parse Data for Patches"
      ],
      "metadata": {
        "id": "n9gzZGaNFcWx"
      }
    },
    {
      "cell_type": "code",
      "source": [
        "cut_samples = 100000 "
      ],
      "metadata": {
        "id": "cpXp313VFxEg"
      },
      "execution_count": 13,
      "outputs": []
    },
    {
      "cell_type": "code",
      "source": [
        "df_a = df_obs.iloc[:cut_samples,:]\n",
        "df_y = df_a['species_id']\n",
        "df_a = df_a.drop(['subset'],axis=1)\n",
        "df_a = df_a.drop(['species_id'],axis=1)\n",
        "X = np.asarray(df_a)\n",
        "print(df_a)"
      ],
      "metadata": {
        "colab": {
          "base_uri": "https://localhost:8080/"
        },
        "id": "09bWnIk_Faep",
        "outputId": "c0117caf-d901-4c2c-da26-c6a7b6164759"
      },
      "execution_count": 26,
      "outputs": [
        {
          "output_type": "stream",
          "name": "stdout",
          "text": [
            "        observation_id   latitude  longitude\n",
            "0             10561949  45.705116   1.424622\n",
            "1             10131188  45.146973   6.416794\n",
            "2             10799362  46.783695  -2.072855\n",
            "3             10392536  48.604866  -2.825003\n",
            "4             10335049  48.815567  -0.161431\n",
            "...                ...        ...        ...\n",
            "249995        10289380  43.697075   3.671242\n",
            "249996        10022148  45.257797   5.660192\n",
            "249997        10562577  44.564808   4.279166\n",
            "249998        10215845  47.410034   4.895005\n",
            "249999        10779562  45.615101   4.656168\n",
            "\n",
            "[250000 rows x 3 columns]\n"
          ]
        }
      ]
    },
    {
      "cell_type": "code",
      "source": [
        "#del extractor\n",
        "extractor = PatchExtractor(DATA_PATH / \"rasters\", size=1) \n",
        "extractor.add_all_rasters()\n",
        "\n",
        "print(\"Number of rasters: {}\".format(len(extractor)))"
      ],
      "metadata": {
        "colab": {
          "base_uri": "https://localhost:8080/"
        },
        "id": "VY-3JQyAFG2e",
        "outputId": "f14b1c38-dee2-4114-8453-39fa4efcdda9"
      },
      "execution_count": 28,
      "outputs": [
        {
          "output_type": "stream",
          "name": "stdout",
          "text": [
            "Number of rasters: 27\n"
          ]
        }
      ]
    },
    {
      "cell_type": "code",
      "source": [
        "features = []\n",
        "for c in X:\n",
        "  features.append(list(c)+list(extractor[c[1],c[2]]))\n",
        "\n",
        "print(features[1])"
      ],
      "metadata": {
        "colab": {
          "base_uri": "https://localhost:8080/"
        },
        "id": "vRRJuAJGJcsm",
        "outputId": "8681e694-99fa-427c-893a-bbcd0d086e9b"
      },
      "execution_count": 29,
      "outputs": [
        {
          "output_type": "stream",
          "name": "stdout",
          "text": [
            "[10131188.0, 45.14697265625, 6.416794300079349, 4.5875, 9.058333, 33.302696, 664.6022, 19.9, -7.3, 27.2, 1.4166667, 12.8, 12.833333, -3.15, 1323.0, 141.0, 75.0, 16.490602, 399.0, 262.0, 265.0, 362.0, 1771.0, 1219.0, 28.0, 18.0, 49.0, 61.0, 38.0, 45.0]\n"
          ]
        }
      ]
    },
    {
      "cell_type": "code",
      "source": [
        "df_X = pd.DataFrame(features)\n",
        "df_X = df_X.drop([0],axis=1)\n",
        "dataset = pd.concat([df_X,df_y],axis=1)\n",
        "dataset.head()"
      ],
      "metadata": {
        "colab": {
          "base_uri": "https://localhost:8080/",
          "height": 235
        },
        "id": "XbKdc1Z6Jm_f",
        "outputId": "a7d78f60-a1a5-4fa8-ce44-167fb9103c82"
      },
      "execution_count": 30,
      "outputs": [
        {
          "output_type": "execute_result",
          "data": {
            "text/plain": [
              "           1         2          3         4          5           6     7    8  \\\n",
              "0  45.705116  1.424622  11.229167  8.724999  37.286324  556.815063  24.5  1.1   \n",
              "1  45.146973  6.416794   4.587500  9.058333  33.302696  664.602173  19.9 -7.3   \n",
              "2  46.783695 -2.072855  12.625000  6.650000  34.635418  466.439606  23.4  4.2   \n",
              "3  48.604866 -2.825003  11.579166  6.525000  37.500000  406.305176  21.4  4.0   \n",
              "4  48.815567 -0.161431  10.295834  7.475000  36.286407  487.071289  22.1  1.5   \n",
              "\n",
              "           9        10  ...     21      22      23    24    25    26    27  \\\n",
              "0  23.400000  8.033333  ...  287.0  1678.0  1381.0  13.0  20.0  26.0  58.0   \n",
              "1  27.200001  1.416667  ...  362.0  1771.0  1219.0  28.0  18.0  49.0  61.0   \n",
              "2  19.200001  8.116667  ...  253.0  1808.0  1351.0  21.0  24.0  31.0  72.0   \n",
              "3  17.400000  7.800000  ...  282.0  1667.0  1277.0  18.0  22.0  24.0  63.0   \n",
              "4  20.600000  5.533333  ...  235.0  1379.0  1321.0  19.0  25.0  26.0  65.0   \n",
              "\n",
              "     28    29  species_id  \n",
              "0  36.0  44.0         241  \n",
              "1  38.0  45.0         101  \n",
              "2  34.0  42.0         700  \n",
              "3  37.0  40.0        1456  \n",
              "4  56.0  20.0         157  \n",
              "\n",
              "[5 rows x 30 columns]"
            ],
            "text/html": [
              "\n",
              "  <div id=\"df-e6012789-d7fe-4d64-ad00-dd9ef01bffc6\">\n",
              "    <div class=\"colab-df-container\">\n",
              "      <div>\n",
              "<style scoped>\n",
              "    .dataframe tbody tr th:only-of-type {\n",
              "        vertical-align: middle;\n",
              "    }\n",
              "\n",
              "    .dataframe tbody tr th {\n",
              "        vertical-align: top;\n",
              "    }\n",
              "\n",
              "    .dataframe thead th {\n",
              "        text-align: right;\n",
              "    }\n",
              "</style>\n",
              "<table border=\"1\" class=\"dataframe\">\n",
              "  <thead>\n",
              "    <tr style=\"text-align: right;\">\n",
              "      <th></th>\n",
              "      <th>1</th>\n",
              "      <th>2</th>\n",
              "      <th>3</th>\n",
              "      <th>4</th>\n",
              "      <th>5</th>\n",
              "      <th>6</th>\n",
              "      <th>7</th>\n",
              "      <th>8</th>\n",
              "      <th>9</th>\n",
              "      <th>10</th>\n",
              "      <th>...</th>\n",
              "      <th>21</th>\n",
              "      <th>22</th>\n",
              "      <th>23</th>\n",
              "      <th>24</th>\n",
              "      <th>25</th>\n",
              "      <th>26</th>\n",
              "      <th>27</th>\n",
              "      <th>28</th>\n",
              "      <th>29</th>\n",
              "      <th>species_id</th>\n",
              "    </tr>\n",
              "  </thead>\n",
              "  <tbody>\n",
              "    <tr>\n",
              "      <th>0</th>\n",
              "      <td>45.705116</td>\n",
              "      <td>1.424622</td>\n",
              "      <td>11.229167</td>\n",
              "      <td>8.724999</td>\n",
              "      <td>37.286324</td>\n",
              "      <td>556.815063</td>\n",
              "      <td>24.5</td>\n",
              "      <td>1.1</td>\n",
              "      <td>23.400000</td>\n",
              "      <td>8.033333</td>\n",
              "      <td>...</td>\n",
              "      <td>287.0</td>\n",
              "      <td>1678.0</td>\n",
              "      <td>1381.0</td>\n",
              "      <td>13.0</td>\n",
              "      <td>20.0</td>\n",
              "      <td>26.0</td>\n",
              "      <td>58.0</td>\n",
              "      <td>36.0</td>\n",
              "      <td>44.0</td>\n",
              "      <td>241</td>\n",
              "    </tr>\n",
              "    <tr>\n",
              "      <th>1</th>\n",
              "      <td>45.146973</td>\n",
              "      <td>6.416794</td>\n",
              "      <td>4.587500</td>\n",
              "      <td>9.058333</td>\n",
              "      <td>33.302696</td>\n",
              "      <td>664.602173</td>\n",
              "      <td>19.9</td>\n",
              "      <td>-7.3</td>\n",
              "      <td>27.200001</td>\n",
              "      <td>1.416667</td>\n",
              "      <td>...</td>\n",
              "      <td>362.0</td>\n",
              "      <td>1771.0</td>\n",
              "      <td>1219.0</td>\n",
              "      <td>28.0</td>\n",
              "      <td>18.0</td>\n",
              "      <td>49.0</td>\n",
              "      <td>61.0</td>\n",
              "      <td>38.0</td>\n",
              "      <td>45.0</td>\n",
              "      <td>101</td>\n",
              "    </tr>\n",
              "    <tr>\n",
              "      <th>2</th>\n",
              "      <td>46.783695</td>\n",
              "      <td>-2.072855</td>\n",
              "      <td>12.625000</td>\n",
              "      <td>6.650000</td>\n",
              "      <td>34.635418</td>\n",
              "      <td>466.439606</td>\n",
              "      <td>23.4</td>\n",
              "      <td>4.2</td>\n",
              "      <td>19.200001</td>\n",
              "      <td>8.116667</td>\n",
              "      <td>...</td>\n",
              "      <td>253.0</td>\n",
              "      <td>1808.0</td>\n",
              "      <td>1351.0</td>\n",
              "      <td>21.0</td>\n",
              "      <td>24.0</td>\n",
              "      <td>31.0</td>\n",
              "      <td>72.0</td>\n",
              "      <td>34.0</td>\n",
              "      <td>42.0</td>\n",
              "      <td>700</td>\n",
              "    </tr>\n",
              "    <tr>\n",
              "      <th>3</th>\n",
              "      <td>48.604866</td>\n",
              "      <td>-2.825003</td>\n",
              "      <td>11.579166</td>\n",
              "      <td>6.525000</td>\n",
              "      <td>37.500000</td>\n",
              "      <td>406.305176</td>\n",
              "      <td>21.4</td>\n",
              "      <td>4.0</td>\n",
              "      <td>17.400000</td>\n",
              "      <td>7.800000</td>\n",
              "      <td>...</td>\n",
              "      <td>282.0</td>\n",
              "      <td>1667.0</td>\n",
              "      <td>1277.0</td>\n",
              "      <td>18.0</td>\n",
              "      <td>22.0</td>\n",
              "      <td>24.0</td>\n",
              "      <td>63.0</td>\n",
              "      <td>37.0</td>\n",
              "      <td>40.0</td>\n",
              "      <td>1456</td>\n",
              "    </tr>\n",
              "    <tr>\n",
              "      <th>4</th>\n",
              "      <td>48.815567</td>\n",
              "      <td>-0.161431</td>\n",
              "      <td>10.295834</td>\n",
              "      <td>7.475000</td>\n",
              "      <td>36.286407</td>\n",
              "      <td>487.071289</td>\n",
              "      <td>22.1</td>\n",
              "      <td>1.5</td>\n",
              "      <td>20.600000</td>\n",
              "      <td>5.533333</td>\n",
              "      <td>...</td>\n",
              "      <td>235.0</td>\n",
              "      <td>1379.0</td>\n",
              "      <td>1321.0</td>\n",
              "      <td>19.0</td>\n",
              "      <td>25.0</td>\n",
              "      <td>26.0</td>\n",
              "      <td>65.0</td>\n",
              "      <td>56.0</td>\n",
              "      <td>20.0</td>\n",
              "      <td>157</td>\n",
              "    </tr>\n",
              "  </tbody>\n",
              "</table>\n",
              "<p>5 rows × 30 columns</p>\n",
              "</div>\n",
              "      <button class=\"colab-df-convert\" onclick=\"convertToInteractive('df-e6012789-d7fe-4d64-ad00-dd9ef01bffc6')\"\n",
              "              title=\"Convert this dataframe to an interactive table.\"\n",
              "              style=\"display:none;\">\n",
              "        \n",
              "  <svg xmlns=\"http://www.w3.org/2000/svg\" height=\"24px\"viewBox=\"0 0 24 24\"\n",
              "       width=\"24px\">\n",
              "    <path d=\"M0 0h24v24H0V0z\" fill=\"none\"/>\n",
              "    <path d=\"M18.56 5.44l.94 2.06.94-2.06 2.06-.94-2.06-.94-.94-2.06-.94 2.06-2.06.94zm-11 1L8.5 8.5l.94-2.06 2.06-.94-2.06-.94L8.5 2.5l-.94 2.06-2.06.94zm10 10l.94 2.06.94-2.06 2.06-.94-2.06-.94-.94-2.06-.94 2.06-2.06.94z\"/><path d=\"M17.41 7.96l-1.37-1.37c-.4-.4-.92-.59-1.43-.59-.52 0-1.04.2-1.43.59L10.3 9.45l-7.72 7.72c-.78.78-.78 2.05 0 2.83L4 21.41c.39.39.9.59 1.41.59.51 0 1.02-.2 1.41-.59l7.78-7.78 2.81-2.81c.8-.78.8-2.07 0-2.86zM5.41 20L4 18.59l7.72-7.72 1.47 1.35L5.41 20z\"/>\n",
              "  </svg>\n",
              "      </button>\n",
              "      \n",
              "  <style>\n",
              "    .colab-df-container {\n",
              "      display:flex;\n",
              "      flex-wrap:wrap;\n",
              "      gap: 12px;\n",
              "    }\n",
              "\n",
              "    .colab-df-convert {\n",
              "      background-color: #E8F0FE;\n",
              "      border: none;\n",
              "      border-radius: 50%;\n",
              "      cursor: pointer;\n",
              "      display: none;\n",
              "      fill: #1967D2;\n",
              "      height: 32px;\n",
              "      padding: 0 0 0 0;\n",
              "      width: 32px;\n",
              "    }\n",
              "\n",
              "    .colab-df-convert:hover {\n",
              "      background-color: #E2EBFA;\n",
              "      box-shadow: 0px 1px 2px rgba(60, 64, 67, 0.3), 0px 1px 3px 1px rgba(60, 64, 67, 0.15);\n",
              "      fill: #174EA6;\n",
              "    }\n",
              "\n",
              "    [theme=dark] .colab-df-convert {\n",
              "      background-color: #3B4455;\n",
              "      fill: #D2E3FC;\n",
              "    }\n",
              "\n",
              "    [theme=dark] .colab-df-convert:hover {\n",
              "      background-color: #434B5C;\n",
              "      box-shadow: 0px 1px 3px 1px rgba(0, 0, 0, 0.15);\n",
              "      filter: drop-shadow(0px 1px 2px rgba(0, 0, 0, 0.3));\n",
              "      fill: #FFFFFF;\n",
              "    }\n",
              "  </style>\n",
              "\n",
              "      <script>\n",
              "        const buttonEl =\n",
              "          document.querySelector('#df-e6012789-d7fe-4d64-ad00-dd9ef01bffc6 button.colab-df-convert');\n",
              "        buttonEl.style.display =\n",
              "          google.colab.kernel.accessAllowed ? 'block' : 'none';\n",
              "\n",
              "        async function convertToInteractive(key) {\n",
              "          const element = document.querySelector('#df-e6012789-d7fe-4d64-ad00-dd9ef01bffc6');\n",
              "          const dataTable =\n",
              "            await google.colab.kernel.invokeFunction('convertToInteractive',\n",
              "                                                     [key], {});\n",
              "          if (!dataTable) return;\n",
              "\n",
              "          const docLinkHtml = 'Like what you see? Visit the ' +\n",
              "            '<a target=\"_blank\" href=https://colab.research.google.com/notebooks/data_table.ipynb>data table notebook</a>'\n",
              "            + ' to learn more about interactive tables.';\n",
              "          element.innerHTML = '';\n",
              "          dataTable['output_type'] = 'display_data';\n",
              "          await google.colab.output.renderOutput(dataTable, element);\n",
              "          const docLink = document.createElement('div');\n",
              "          docLink.innerHTML = docLinkHtml;\n",
              "          element.appendChild(docLink);\n",
              "        }\n",
              "      </script>\n",
              "    </div>\n",
              "  </div>\n",
              "  "
            ]
          },
          "metadata": {},
          "execution_count": 30
        }
      ]
    },
    {
      "cell_type": "markdown",
      "source": [
        "#Incase Fitting Fails save dataset to just pull from Gdrive"
      ],
      "metadata": {
        "id": "JvKvjm44Z1ao"
      }
    },
    {
      "cell_type": "code",
      "source": [
        "DATA_PATH = Path(\"/content/drive/MyDrive/ds3/\")\n",
        "dataset.to_csv(os.path.join(DATA_PATH, r\"loc_raster_SpId_250000.csv\"))"
      ],
      "metadata": {
        "id": "UJAWpIRbXDXp"
      },
      "execution_count": 31,
      "outputs": []
    },
    {
      "cell_type": "code",
      "source": [
        "dataset = pd.read_csv(DATA_PATH / \"loc_raster_SpId_100000.csv\",  index_col=[0])"
      ],
      "metadata": {
        "id": "14L1Aw9oZ0oy"
      },
      "execution_count": 42,
      "outputs": []
    },
    {
      "cell_type": "markdown",
      "source": [
        "##After analyzing the feature vectors, remove with threshold .035"
      ],
      "metadata": {
        "id": "UOhr9Y1P0i6O"
      }
    },
    {
      "cell_type": "code",
      "source": [
        "#thr035 = [2, 3, 6, 7, 8, 10, 11, 12, 13, 14, 15, 17, 18, 19, 20, 23, 24, 27, 28]\n",
        "th04 = [2, 3, 4, 5, 6, 7, 8, 9, 10, 11, 12, 13, 14, 15, 16, 17, 18, 19, 20, 23, 24, 25, 26, 27, 28]\n",
        "th03 = [6, 7, 14, 15, 18]\n",
        "\n",
        "dataset.drop(dataset.columns[th03], axis = 1, inplace=True)\n",
        "dataset.head()\n"
      ],
      "metadata": {
        "colab": {
          "base_uri": "https://localhost:8080/",
          "height": 235
        },
        "id": "_eXj3EtV0iKA",
        "outputId": "a0dd9ab3-ef61-423f-e938-0b4d3d8484d9"
      },
      "execution_count": 43,
      "outputs": [
        {
          "output_type": "execute_result",
          "data": {
            "text/plain": [
              "           1         2          3         4          5          6     9  \\\n",
              "0  45.705116  1.424622  11.229167  8.724999  37.286324  556.81506  23.4   \n",
              "1  45.146973  6.416794   4.587500  9.058333  33.302696  664.60220  27.2   \n",
              "2  46.783695 -2.072855  12.625000  6.650000  34.635418  466.43960  19.2   \n",
              "3  48.604866 -2.825003  11.579166  6.525000  37.500000  406.30518  17.4   \n",
              "4  48.815567 -0.161431  10.295834  7.475000  36.286407  487.07130  20.6   \n",
              "\n",
              "         10         11         12  ...     21      22      23    24    25  \\\n",
              "0  8.033333  18.266666  18.266666  ...  287.0  1678.0  1381.0  13.0  20.0   \n",
              "1  1.416667  12.800000  12.833333  ...  362.0  1771.0  1219.0  28.0  18.0   \n",
              "2  8.116667  18.366667  18.416666  ...  253.0  1808.0  1351.0  21.0  24.0   \n",
              "3  7.800000  16.566666  16.733334  ...  282.0  1667.0  1277.0  18.0  22.0   \n",
              "4  5.533333  16.383333  16.383333  ...  235.0  1379.0  1321.0  19.0  25.0   \n",
              "\n",
              "     26    27    28    29  species_id  \n",
              "0  26.0  58.0  36.0  44.0         241  \n",
              "1  49.0  61.0  38.0  45.0         101  \n",
              "2  31.0  72.0  34.0  42.0         700  \n",
              "3  24.0  63.0  37.0  40.0        1456  \n",
              "4  26.0  65.0  56.0  20.0         157  \n",
              "\n",
              "[5 rows x 25 columns]"
            ],
            "text/html": [
              "\n",
              "  <div id=\"df-9f673bbe-0f44-4b48-ae3f-c8ae24ef8f68\">\n",
              "    <div class=\"colab-df-container\">\n",
              "      <div>\n",
              "<style scoped>\n",
              "    .dataframe tbody tr th:only-of-type {\n",
              "        vertical-align: middle;\n",
              "    }\n",
              "\n",
              "    .dataframe tbody tr th {\n",
              "        vertical-align: top;\n",
              "    }\n",
              "\n",
              "    .dataframe thead th {\n",
              "        text-align: right;\n",
              "    }\n",
              "</style>\n",
              "<table border=\"1\" class=\"dataframe\">\n",
              "  <thead>\n",
              "    <tr style=\"text-align: right;\">\n",
              "      <th></th>\n",
              "      <th>1</th>\n",
              "      <th>2</th>\n",
              "      <th>3</th>\n",
              "      <th>4</th>\n",
              "      <th>5</th>\n",
              "      <th>6</th>\n",
              "      <th>9</th>\n",
              "      <th>10</th>\n",
              "      <th>11</th>\n",
              "      <th>12</th>\n",
              "      <th>...</th>\n",
              "      <th>21</th>\n",
              "      <th>22</th>\n",
              "      <th>23</th>\n",
              "      <th>24</th>\n",
              "      <th>25</th>\n",
              "      <th>26</th>\n",
              "      <th>27</th>\n",
              "      <th>28</th>\n",
              "      <th>29</th>\n",
              "      <th>species_id</th>\n",
              "    </tr>\n",
              "  </thead>\n",
              "  <tbody>\n",
              "    <tr>\n",
              "      <th>0</th>\n",
              "      <td>45.705116</td>\n",
              "      <td>1.424622</td>\n",
              "      <td>11.229167</td>\n",
              "      <td>8.724999</td>\n",
              "      <td>37.286324</td>\n",
              "      <td>556.81506</td>\n",
              "      <td>23.4</td>\n",
              "      <td>8.033333</td>\n",
              "      <td>18.266666</td>\n",
              "      <td>18.266666</td>\n",
              "      <td>...</td>\n",
              "      <td>287.0</td>\n",
              "      <td>1678.0</td>\n",
              "      <td>1381.0</td>\n",
              "      <td>13.0</td>\n",
              "      <td>20.0</td>\n",
              "      <td>26.0</td>\n",
              "      <td>58.0</td>\n",
              "      <td>36.0</td>\n",
              "      <td>44.0</td>\n",
              "      <td>241</td>\n",
              "    </tr>\n",
              "    <tr>\n",
              "      <th>1</th>\n",
              "      <td>45.146973</td>\n",
              "      <td>6.416794</td>\n",
              "      <td>4.587500</td>\n",
              "      <td>9.058333</td>\n",
              "      <td>33.302696</td>\n",
              "      <td>664.60220</td>\n",
              "      <td>27.2</td>\n",
              "      <td>1.416667</td>\n",
              "      <td>12.800000</td>\n",
              "      <td>12.833333</td>\n",
              "      <td>...</td>\n",
              "      <td>362.0</td>\n",
              "      <td>1771.0</td>\n",
              "      <td>1219.0</td>\n",
              "      <td>28.0</td>\n",
              "      <td>18.0</td>\n",
              "      <td>49.0</td>\n",
              "      <td>61.0</td>\n",
              "      <td>38.0</td>\n",
              "      <td>45.0</td>\n",
              "      <td>101</td>\n",
              "    </tr>\n",
              "    <tr>\n",
              "      <th>2</th>\n",
              "      <td>46.783695</td>\n",
              "      <td>-2.072855</td>\n",
              "      <td>12.625000</td>\n",
              "      <td>6.650000</td>\n",
              "      <td>34.635418</td>\n",
              "      <td>466.43960</td>\n",
              "      <td>19.2</td>\n",
              "      <td>8.116667</td>\n",
              "      <td>18.366667</td>\n",
              "      <td>18.416666</td>\n",
              "      <td>...</td>\n",
              "      <td>253.0</td>\n",
              "      <td>1808.0</td>\n",
              "      <td>1351.0</td>\n",
              "      <td>21.0</td>\n",
              "      <td>24.0</td>\n",
              "      <td>31.0</td>\n",
              "      <td>72.0</td>\n",
              "      <td>34.0</td>\n",
              "      <td>42.0</td>\n",
              "      <td>700</td>\n",
              "    </tr>\n",
              "    <tr>\n",
              "      <th>3</th>\n",
              "      <td>48.604866</td>\n",
              "      <td>-2.825003</td>\n",
              "      <td>11.579166</td>\n",
              "      <td>6.525000</td>\n",
              "      <td>37.500000</td>\n",
              "      <td>406.30518</td>\n",
              "      <td>17.4</td>\n",
              "      <td>7.800000</td>\n",
              "      <td>16.566666</td>\n",
              "      <td>16.733334</td>\n",
              "      <td>...</td>\n",
              "      <td>282.0</td>\n",
              "      <td>1667.0</td>\n",
              "      <td>1277.0</td>\n",
              "      <td>18.0</td>\n",
              "      <td>22.0</td>\n",
              "      <td>24.0</td>\n",
              "      <td>63.0</td>\n",
              "      <td>37.0</td>\n",
              "      <td>40.0</td>\n",
              "      <td>1456</td>\n",
              "    </tr>\n",
              "    <tr>\n",
              "      <th>4</th>\n",
              "      <td>48.815567</td>\n",
              "      <td>-0.161431</td>\n",
              "      <td>10.295834</td>\n",
              "      <td>7.475000</td>\n",
              "      <td>36.286407</td>\n",
              "      <td>487.07130</td>\n",
              "      <td>20.6</td>\n",
              "      <td>5.533333</td>\n",
              "      <td>16.383333</td>\n",
              "      <td>16.383333</td>\n",
              "      <td>...</td>\n",
              "      <td>235.0</td>\n",
              "      <td>1379.0</td>\n",
              "      <td>1321.0</td>\n",
              "      <td>19.0</td>\n",
              "      <td>25.0</td>\n",
              "      <td>26.0</td>\n",
              "      <td>65.0</td>\n",
              "      <td>56.0</td>\n",
              "      <td>20.0</td>\n",
              "      <td>157</td>\n",
              "    </tr>\n",
              "  </tbody>\n",
              "</table>\n",
              "<p>5 rows × 25 columns</p>\n",
              "</div>\n",
              "      <button class=\"colab-df-convert\" onclick=\"convertToInteractive('df-9f673bbe-0f44-4b48-ae3f-c8ae24ef8f68')\"\n",
              "              title=\"Convert this dataframe to an interactive table.\"\n",
              "              style=\"display:none;\">\n",
              "        \n",
              "  <svg xmlns=\"http://www.w3.org/2000/svg\" height=\"24px\"viewBox=\"0 0 24 24\"\n",
              "       width=\"24px\">\n",
              "    <path d=\"M0 0h24v24H0V0z\" fill=\"none\"/>\n",
              "    <path d=\"M18.56 5.44l.94 2.06.94-2.06 2.06-.94-2.06-.94-.94-2.06-.94 2.06-2.06.94zm-11 1L8.5 8.5l.94-2.06 2.06-.94-2.06-.94L8.5 2.5l-.94 2.06-2.06.94zm10 10l.94 2.06.94-2.06 2.06-.94-2.06-.94-.94-2.06-.94 2.06-2.06.94z\"/><path d=\"M17.41 7.96l-1.37-1.37c-.4-.4-.92-.59-1.43-.59-.52 0-1.04.2-1.43.59L10.3 9.45l-7.72 7.72c-.78.78-.78 2.05 0 2.83L4 21.41c.39.39.9.59 1.41.59.51 0 1.02-.2 1.41-.59l7.78-7.78 2.81-2.81c.8-.78.8-2.07 0-2.86zM5.41 20L4 18.59l7.72-7.72 1.47 1.35L5.41 20z\"/>\n",
              "  </svg>\n",
              "      </button>\n",
              "      \n",
              "  <style>\n",
              "    .colab-df-container {\n",
              "      display:flex;\n",
              "      flex-wrap:wrap;\n",
              "      gap: 12px;\n",
              "    }\n",
              "\n",
              "    .colab-df-convert {\n",
              "      background-color: #E8F0FE;\n",
              "      border: none;\n",
              "      border-radius: 50%;\n",
              "      cursor: pointer;\n",
              "      display: none;\n",
              "      fill: #1967D2;\n",
              "      height: 32px;\n",
              "      padding: 0 0 0 0;\n",
              "      width: 32px;\n",
              "    }\n",
              "\n",
              "    .colab-df-convert:hover {\n",
              "      background-color: #E2EBFA;\n",
              "      box-shadow: 0px 1px 2px rgba(60, 64, 67, 0.3), 0px 1px 3px 1px rgba(60, 64, 67, 0.15);\n",
              "      fill: #174EA6;\n",
              "    }\n",
              "\n",
              "    [theme=dark] .colab-df-convert {\n",
              "      background-color: #3B4455;\n",
              "      fill: #D2E3FC;\n",
              "    }\n",
              "\n",
              "    [theme=dark] .colab-df-convert:hover {\n",
              "      background-color: #434B5C;\n",
              "      box-shadow: 0px 1px 3px 1px rgba(0, 0, 0, 0.15);\n",
              "      filter: drop-shadow(0px 1px 2px rgba(0, 0, 0, 0.3));\n",
              "      fill: #FFFFFF;\n",
              "    }\n",
              "  </style>\n",
              "\n",
              "      <script>\n",
              "        const buttonEl =\n",
              "          document.querySelector('#df-9f673bbe-0f44-4b48-ae3f-c8ae24ef8f68 button.colab-df-convert');\n",
              "        buttonEl.style.display =\n",
              "          google.colab.kernel.accessAllowed ? 'block' : 'none';\n",
              "\n",
              "        async function convertToInteractive(key) {\n",
              "          const element = document.querySelector('#df-9f673bbe-0f44-4b48-ae3f-c8ae24ef8f68');\n",
              "          const dataTable =\n",
              "            await google.colab.kernel.invokeFunction('convertToInteractive',\n",
              "                                                     [key], {});\n",
              "          if (!dataTable) return;\n",
              "\n",
              "          const docLinkHtml = 'Like what you see? Visit the ' +\n",
              "            '<a target=\"_blank\" href=https://colab.research.google.com/notebooks/data_table.ipynb>data table notebook</a>'\n",
              "            + ' to learn more about interactive tables.';\n",
              "          element.innerHTML = '';\n",
              "          dataTable['output_type'] = 'display_data';\n",
              "          await google.colab.output.renderOutput(dataTable, element);\n",
              "          const docLink = document.createElement('div');\n",
              "          docLink.innerHTML = docLinkHtml;\n",
              "          element.appendChild(docLink);\n",
              "        }\n",
              "      </script>\n",
              "    </div>\n",
              "  </div>\n",
              "  "
            ]
          },
          "metadata": {},
          "execution_count": 43
        }
      ]
    },
    {
      "cell_type": "code",
      "source": [
        "def clean_dataset(df):\n",
        "    assert isinstance(df, pd.DataFrame), \"df needs to be a pd.DataFrame\"\n",
        "    df.dropna(inplace=True)\n",
        "    indices_to_keep = ~df.isin([np.nan, np.inf, -np.inf]).any(1)\n",
        "    return df[indices_to_keep].astype(np.float64)"
      ],
      "metadata": {
        "id": "CDSXdyroK936"
      },
      "execution_count": 22,
      "outputs": []
    },
    {
      "cell_type": "markdown",
      "source": [
        "#Continue preprocessing for RF"
      ],
      "metadata": {
        "id": "QAblS8V6aOVE"
      }
    },
    {
      "cell_type": "code",
      "source": [
        "df = clean_dataset(dataset)\n",
        "print(df.shape)\n",
        "x = df.iloc[:,:-1]\n",
        "y = df.iloc[:,-1]\n",
        "\n",
        "x_train, x_test, y_train, y_test = train_test_split(x,y, test_size=0.20, random_state=101)\n",
        "\n",
        "print(x_train.shape)\n",
        "print(y_train.shape)\n",
        "print(x_test.shape)\n",
        "print(y_test.shape)"
      ],
      "metadata": {
        "colab": {
          "base_uri": "https://localhost:8080/"
        },
        "id": "9L73_ooXLd6i",
        "outputId": "853e2884-c719-441d-dc70-5a2e810fa65a"
      },
      "execution_count": 44,
      "outputs": [
        {
          "output_type": "stream",
          "name": "stdout",
          "text": [
            "(96354, 25)\n",
            "(77083, 24)\n",
            "(77083,)\n",
            "(19271, 24)\n",
            "(19271,)\n"
          ]
        }
      ]
    },
    {
      "cell_type": "code",
      "source": [
        "#normalize the data\n",
        "from sklearn import preprocessing\n",
        "scaler = preprocessing.StandardScaler().fit(x_train)\n",
        "x_train = scaler.transform(x_train)\n",
        "scaler = preprocessing.StandardScaler().fit(x_test)\n",
        "x_test = scaler.transform(x_test)"
      ],
      "metadata": {
        "id": "OWStIIR9L-O-"
      },
      "execution_count": 45,
      "outputs": []
    },
    {
      "cell_type": "code",
      "source": [
        "#Number of trees in random forest\n",
        "n_estimators = 100 #[int(x) for x in np.linspace(start = 10, stop = 80, num = 10)]\n",
        "# Number of features to consider at every split\n",
        "max_features ='sqrt'\n",
        "# Maximum number of levels in tree\n",
        "max_depth = 16\n",
        "# Minimum number of samples required to split a node\n",
        "min_samples_split = 30\n",
        "# Minimum number of samples required at each leaf node\n",
        "min_samples_leaf = 50\n",
        "# Method of selecting samples for training each tree\n",
        "bootstrap = True\n",
        "\n",
        "# Create the param grid\n",
        "random_grid = {'n_estimators': n_estimators,\n",
        "               'max_features': max_features,\n",
        "               'max_depth': max_depth,\n",
        "               'min_samples_split': min_samples_split,\n",
        "               'min_samples_leaf': min_samples_leaf,\n",
        "               'bootstrap': bootstrap}\n",
        "print(random_grid)"
      ],
      "metadata": {
        "colab": {
          "base_uri": "https://localhost:8080/"
        },
        "id": "liaOBTvEMCSN",
        "outputId": "0bf31f64-b681-48f0-a10b-edd926501ccc"
      },
      "execution_count": 34,
      "outputs": [
        {
          "output_type": "stream",
          "name": "stdout",
          "text": [
            "{'n_estimators': 100, 'max_features': 'sqrt', 'max_depth': 16, 'min_samples_split': 30, 'min_samples_leaf': 50, 'bootstrap': True}\n"
          ]
        }
      ]
    },
    {
      "cell_type": "code",
      "source": [
        "#Number of trees in random forest\n",
        "n_estimators = [50, 100, 150] \n",
        "# Number of features to consider at every split\n",
        "max_features = ['sqrt','log2']\n",
        "# Maximum number of levels in tree\n",
        "max_depth = [8,16,32]\n",
        "# Minimum number of samples required to split a node\n",
        "min_samples_split = [15,30,45,60]\n",
        "# Minimum number of samples required at each leaf node\n",
        "min_samples_leaf = 50\n",
        "# Method of selecting samples for training each tree\n",
        "bootstrap = True\n",
        "\n",
        "# Create the param grid\n",
        "random_grid = {'n_estimators': n_estimators,\n",
        "               'max_features': max_features,\n",
        "               'max_depth': max_depth,\n",
        "               'min_samples_split': min_samples_split,\n",
        "               'min_samples_leaf': min_samples_leaf,\n",
        "               'bootstrap': bootstrap}\n",
        "print(random_grid)"
      ],
      "metadata": {
        "id": "-fHEMWgS6K0d"
      },
      "execution_count": null,
      "outputs": []
    },
    {
      "cell_type": "code",
      "source": [
        "rf_random.best_params_"
      ],
      "metadata": {
        "colab": {
          "base_uri": "https://localhost:8080/"
        },
        "id": "_Z4RvlYvNAVa",
        "outputId": "07c24a58-d647-4f9b-a052-4f9f33422687"
      },
      "execution_count": null,
      "outputs": [
        {
          "output_type": "execute_result",
          "data": {
            "text/plain": [
              "{'bootstrap': True,\n",
              " 'max_depth': 16,\n",
              " 'max_features': 'sqrt',\n",
              " 'min_samples_leaf': 50,\n",
              " 'min_samples_split': 60,\n",
              " 'n_estimators': 100}"
            ]
          },
          "metadata": {},
          "execution_count": 22
        }
      ]
    },
    {
      "cell_type": "code",
      "source": [
        "rf_Model = RandomForestClassifier(n_estimators = 100,max_features ='sqrt',max_depth = 16,min_samples_split = 60, min_samples_leaf = 50,bootstrap = True)"
      ],
      "metadata": {
        "id": "cRtLzg_iM3Cm"
      },
      "execution_count": 46,
      "outputs": []
    },
    {
      "cell_type": "code",
      "source": [
        "from sklearn.model_selection import RandomizedSearchCV\n",
        "\n",
        "#rf_random = RandomizedSearchCV(estimator = rf_Model, param_distributions = random_grid, n_iter = 100, cv = 5, verbose=2, random_state=42, n_jobs = -1)\n",
        "#rf_model = RandomizedSearch\n"
      ],
      "metadata": {
        "id": "FmjC7Ab1M5mN"
      },
      "execution_count": null,
      "outputs": []
    },
    {
      "cell_type": "code",
      "source": [
        "#rf_random.fit(x_train, y_train) #fit is to initiate training process\n",
        "rf_Model.fit(x_train, y_train)"
      ],
      "metadata": {
        "colab": {
          "base_uri": "https://localhost:8080/"
        },
        "id": "wjmxAb8DM7-i",
        "outputId": "1456872d-a170-4d02-99f8-2f6376b38849"
      },
      "execution_count": 47,
      "outputs": [
        {
          "output_type": "execute_result",
          "data": {
            "text/plain": [
              "RandomForestClassifier(max_depth=16, max_features='sqrt', min_samples_leaf=50,\n",
              "                       min_samples_split=60)"
            ]
          },
          "metadata": {},
          "execution_count": 47
        }
      ]
    },
    {
      "cell_type": "code",
      "source": [
        "train_results = rf_Model.score(x_train,y_train)\n",
        "test_results = rf_Model.score(x_test,y_test)\n",
        "print (f'Train Accuracy - : {train_results}')\n",
        "print (f'Test Accuracy - : {test_results}')"
      ],
      "metadata": {
        "colab": {
          "base_uri": "https://localhost:8080/"
        },
        "id": "gEHc9tFeNBz4",
        "outputId": "526bfe8f-aeb8-4162-bd69-5b489a262f87"
      },
      "execution_count": 48,
      "outputs": [
        {
          "output_type": "stream",
          "name": "stdout",
          "text": [
            "Train Accuracy - : 0.19220839873902157\n",
            "Test Accuracy - : 0.025841938664314255\n"
          ]
        }
      ]
    },
    {
      "cell_type": "code",
      "source": [
        "from datetime import datetime\n",
        "\n",
        "file1 = open(DATA_PATH / \"myRFresults.txt\", \"a\")\n",
        "min_samples_split = 60 \n",
        "rf_str = str(n_estimators) + \":\" + str(max_features) + \":\" + str(max_depth) + \":\" + str(min_samples_split) + \":\" + str(min_samples_leaf)\n",
        "now = datetime.now()\n",
        "#str1 = str(now) + \", Normalized Samples = {}, TrainAcc={:.4f}, TestAcc={:.5f}, RF={}\".format(cut_samples, train_results,test_results, rf_str)\n",
        "str1 = str(now) + \",Feat <.03 Remove Samples = {}, TrainAcc={:.4f}, TestAcc={:.5f}, RF={}\".format(cut_samples, train_results,test_results, rf_str)\n",
        "\n",
        "file1.write(str1)\n",
        "file1.close()"
      ],
      "metadata": {
        "id": "up0U-FFuaSAl"
      },
      "execution_count": 49,
      "outputs": []
    },
    {
      "cell_type": "markdown",
      "source": [
        "#Measure Feature importance"
      ],
      "metadata": {
        "id": "8wt0lKmpqgIL"
      }
    },
    {
      "cell_type": "code",
      "source": [
        "# random forest for feature importance on a regression problem\n",
        "from sklearn.datasets import make_regression\n",
        "from sklearn.ensemble import RandomForestRegressor\n",
        "from matplotlib import pyplot\n",
        "# define dataset\n",
        "#, y = make_regression(n_samples=1000, n_features=10, n_informative=5, random_state=1)\n",
        "# define the model\n",
        "model = RandomForestRegressor()\n",
        "# fit the model\n",
        "model.fit(x_train, y_train)\n",
        "# get importance\n",
        "importance = model.feature_importances_\n",
        "# summarize feature importance\n",
        "for i,v in enumerate(importance):\n",
        "\tprint('Feature: %0d, Score: %.5f' % (i,v))\n",
        "# plot feature importance\n",
        "pyplot.bar([x for x in range(len(importance))], importance)\n",
        "pyplot.show()"
      ],
      "metadata": {
        "colab": {
          "base_uri": "https://localhost:8080/",
          "height": 800
        },
        "id": "EM6sxo09qfZE",
        "outputId": "da098427-39dc-415e-b6c5-a2fa8fd3ff2f"
      },
      "execution_count": 6,
      "outputs": [
        {
          "output_type": "stream",
          "name": "stdout",
          "text": [
            "Feature: 0, Score: 0.08845\n",
            "Feature: 1, Score: 0.08909\n",
            "Feature: 2, Score: 0.02721\n",
            "Feature: 3, Score: 0.03147\n",
            "Feature: 4, Score: 0.04726\n",
            "Feature: 5, Score: 0.03807\n",
            "Feature: 6, Score: 0.01796\n",
            "Feature: 7, Score: 0.01323\n",
            "Feature: 8, Score: 0.02016\n",
            "Feature: 9, Score: 0.04621\n",
            "Feature: 10, Score: 0.02436\n",
            "Feature: 11, Score: 0.01965\n",
            "Feature: 12, Score: 0.02233\n",
            "Feature: 13, Score: 0.02633\n",
            "Feature: 14, Score: 0.01978\n",
            "Feature: 15, Score: 0.01151\n",
            "Feature: 16, Score: 0.04291\n",
            "Feature: 17, Score: 0.02387\n",
            "Feature: 18, Score: 0.01783\n",
            "Feature: 19, Score: 0.02045\n",
            "Feature: 20, Score: 0.02211\n",
            "Feature: 21, Score: 0.06915\n",
            "Feature: 22, Score: 0.05781\n",
            "Feature: 23, Score: 0.03080\n",
            "Feature: 24, Score: 0.02972\n",
            "Feature: 25, Score: 0.04424\n",
            "Feature: 26, Score: 0.03541\n",
            "Feature: 27, Score: 0.03010\n",
            "Feature: 28, Score: 0.03254\n"
          ]
        },
        {
          "output_type": "display_data",
          "data": {
            "text/plain": [
              "<Figure size 432x288 with 1 Axes>"
            ],
            "image/png": "[encoded data removed]"
          },
          "metadata": {
            "needs_background": "light"
          }
        }
      ]
    },
    {
      "cell_type": "code",
      "source": [
        "toss_feature = []\n",
        "z = 0\n",
        "for i in importance:\n",
        "  if i < 0.025: \n",
        "    toss_feature.append(z)\n",
        "  z = z + 1\n",
        "\n",
        "print(toss_feature)"
      ],
      "metadata": {
        "colab": {
          "base_uri": "https://localhost:8080/"
        },
        "id": "QJl5EqNIyCuY",
        "outputId": "2f24e157-f61e-410a-97b1-4ec25929ba67"
      },
      "execution_count": 9,
      "outputs": [
        {
          "output_type": "stream",
          "name": "stdout",
          "text": [
            "[6, 7, 8, 10, 11, 12, 14, 15, 17, 18, 19, 20]\n"
          ]
        }
      ]
    },
    {
      "cell_type": "markdown",
      "source": [
        "#test 30 acc"
      ],
      "metadata": {
        "id": "xBSBMkg2G0Tt"
      }
    },
    {
      "cell_type": "code",
      "source": [
        "from GLC2022_FinalProject.GLC.submission import generate_submission_file\n",
        "\n",
        "df_obs_fr_test = pd.read_csv(DATA_PATH / \"observations\" / \"observations_fr_test.csv\", sep=\";\", index_col=\"observation_id\")\n",
        "df_obs_us_test = pd.read_csv(DATA_PATH / \"observations\" / \"observations_us_test.csv\", sep=\";\", index_col=\"observation_id\")\n",
        "\n",
        "df_obs_test = pd.concat((df_obs_fr_test, df_obs_us_test))\n",
        "\n",
        "obs_id_test = df_obs_test.index.values\n",
        "\n",
        "print(\"Number of observations for testing: {}\".format(len(df_obs_test)))\n",
        "\n",
        "df_obs_test.head()"
      ],
      "metadata": {
        "id": "dw6peSH1HHHd"
      },
      "execution_count": null,
      "outputs": []
    },
    {
      "cell_type": "code",
      "source": [
        "obs_id_train = df_obs.index[df_obs[\"subset\"] == \"train\"].values\n",
        "obs_id_val = df_obs.index[df_obs[\"subset\"] == \"val\"].values\n",
        "\n",
        "y_train = df_obs.loc[obs_id_train][\"species_id\"].values\n",
        "y_val = df_obs.loc[obs_id_val][\"species_id\"].values\n",
        "\n",
        "n_val = len(obs_id_val)\n",
        "print(\"Validation set size: {} ({:.1%} of train observations)\".format(n_val, n_val / len(df_obs)))"
      ],
      "metadata": {
        "colab": {
          "base_uri": "https://localhost:8080/"
        },
        "id": "L96exrAuG9eB",
        "outputId": "7050aec1-9701-4bb1-d85b-6aec8afe9748"
      },
      "execution_count": 53,
      "outputs": [
        {
          "output_type": "stream",
          "name": "stdout",
          "text": [
            "Validation set size: 40080 (2.5% of train observations)\n"
          ]
        }
      ]
    },
    {
      "cell_type": "code",
      "source": [
        "first_30_species = np.arange(30)\n",
        "s_pred = np.tile(first_30_species[None], (len(df_obs_test), 1))"
      ],
      "metadata": {
        "id": "u4LQSHn-HcMQ"
      },
      "execution_count": 56,
      "outputs": []
    },
    {
      "cell_type": "code",
      "source": [
        "SUBMISSION_PATH = Path(\"submissions\")\n",
        "os.makedirs(SUBMISSION_PATH, exist_ok=True)"
      ],
      "metadata": {
        "id": "DcFdAt8iHmws"
      },
      "execution_count": 58,
      "outputs": []
    },
    {
      "cell_type": "code",
      "source": [
        "first_30_species = np.arange(30)\n",
        "s_pred = np.tile(first_30_species[None], (len(df_obs_test), 1))"
      ],
      "metadata": {
        "id": "p8fgA4z1HwVZ"
      },
      "execution_count": 60,
      "outputs": []
    },
    {
      "cell_type": "code",
      "source": [
        "generate_submission_file(SUBMISSION_PATH / \"sample_submission.csv\", df_obs_test.index, s_pred)"
      ],
      "metadata": {
        "id": "CNaUDluKHeDD"
      },
      "execution_count": 61,
      "outputs": []
    },
    {
      "cell_type": "code",
      "source": [
        ""
      ],
      "metadata": {
        "id": "a0qPHdprHvor"
      },
      "execution_count": null,
      "outputs": []
    },
    {
      "cell_type": "code",
      "source": [
        "df_env = pd.read_csv(DATA_PATH / \"pre-extracted\" / \"environmental_vectors.csv\", sep=\";\", index_col=\"observation_id\")\n",
        "\n",
        "X_train = df_env.loc[obs_id_train].values\n",
        "X_val = df_env.loc[obs_id_val].values\n",
        "X_test = df_env.loc[obs_id_test].values"
      ],
      "metadata": {
        "colab": {
          "base_uri": "https://localhost:8080/",
          "height": 417
        },
        "id": "1RZySaPTGX1e",
        "outputId": "7b4ac692-8c3d-4976-a02b-d96955791e5d"
      },
      "execution_count": 65,
      "outputs": [
        {
          "output_type": "error",
          "ename": "KeyError",
          "evalue": "ignored",
          "traceback": [
            "\u001b[0;31m---------------------------------------------------------------------------\u001b[0m",
            "\u001b[0;31mKeyError\u001b[0m                                  Traceback (most recent call last)",
            "\u001b[0;32m<ipython-input-65-a890b192bdaf>\u001b[0m in \u001b[0;36m<module>\u001b[0;34m()\u001b[0m\n\u001b[1;32m      1\u001b[0m \u001b[0mdf_env\u001b[0m \u001b[0;34m=\u001b[0m \u001b[0mpd\u001b[0m\u001b[0;34m.\u001b[0m\u001b[0mread_csv\u001b[0m\u001b[0;34m(\u001b[0m\u001b[0mDATA_PATH\u001b[0m \u001b[0;34m/\u001b[0m \u001b[0;34m\"pre-extracted\"\u001b[0m \u001b[0;34m/\u001b[0m \u001b[0;34m\"environmental_vectors.csv\"\u001b[0m\u001b[0;34m,\u001b[0m \u001b[0msep\u001b[0m\u001b[0;34m=\u001b[0m\u001b[0;34m\";\"\u001b[0m\u001b[0;34m,\u001b[0m \u001b[0mindex_col\u001b[0m\u001b[0;34m=\u001b[0m\u001b[0;34m\"observation_id\"\u001b[0m\u001b[0;34m)\u001b[0m\u001b[0;34m\u001b[0m\u001b[0;34m\u001b[0m\u001b[0m\n\u001b[1;32m      2\u001b[0m \u001b[0;34m\u001b[0m\u001b[0m\n\u001b[0;32m----> 3\u001b[0;31m \u001b[0mX_train\u001b[0m \u001b[0;34m=\u001b[0m \u001b[0mdf_env\u001b[0m\u001b[0;34m.\u001b[0m\u001b[0mloc\u001b[0m\u001b[0;34m[\u001b[0m\u001b[0mobs_id_train\u001b[0m\u001b[0;34m]\u001b[0m\u001b[0;34m.\u001b[0m\u001b[0mvalues\u001b[0m\u001b[0;34m\u001b[0m\u001b[0;34m\u001b[0m\u001b[0m\n\u001b[0m\u001b[1;32m      4\u001b[0m \u001b[0mX_val\u001b[0m \u001b[0;34m=\u001b[0m \u001b[0mdf_env\u001b[0m\u001b[0;34m.\u001b[0m\u001b[0mloc\u001b[0m\u001b[0;34m[\u001b[0m\u001b[0mobs_id_val\u001b[0m\u001b[0;34m]\u001b[0m\u001b[0;34m.\u001b[0m\u001b[0mvalues\u001b[0m\u001b[0;34m\u001b[0m\u001b[0;34m\u001b[0m\u001b[0m\n\u001b[1;32m      5\u001b[0m \u001b[0mX_test\u001b[0m \u001b[0;34m=\u001b[0m \u001b[0mdf_env\u001b[0m\u001b[0;34m.\u001b[0m\u001b[0mloc\u001b[0m\u001b[0;34m[\u001b[0m\u001b[0mobs_id_test\u001b[0m\u001b[0;34m]\u001b[0m\u001b[0;34m.\u001b[0m\u001b[0mvalues\u001b[0m\u001b[0;34m\u001b[0m\u001b[0;34m\u001b[0m\u001b[0m\n",
            "\u001b[0;32m/usr/local/lib/python3.7/site-packages/pandas/core/indexing.py\u001b[0m in \u001b[0;36m__getitem__\u001b[0;34m(self, key)\u001b[0m\n\u001b[1;32m    929\u001b[0m \u001b[0;34m\u001b[0m\u001b[0m\n\u001b[1;32m    930\u001b[0m             \u001b[0mmaybe_callable\u001b[0m \u001b[0;34m=\u001b[0m \u001b[0mcom\u001b[0m\u001b[0;34m.\u001b[0m\u001b[0mapply_if_callable\u001b[0m\u001b[0;34m(\u001b[0m\u001b[0mkey\u001b[0m\u001b[0;34m,\u001b[0m \u001b[0mself\u001b[0m\u001b[0;34m.\u001b[0m\u001b[0mobj\u001b[0m\u001b[0;34m)\u001b[0m\u001b[0;34m\u001b[0m\u001b[0;34m\u001b[0m\u001b[0m\n\u001b[0;32m--> 931\u001b[0;31m             \u001b[0;32mreturn\u001b[0m \u001b[0mself\u001b[0m\u001b[0;34m.\u001b[0m\u001b[0m_getitem_axis\u001b[0m\u001b[0;34m(\u001b[0m\u001b[0mmaybe_callable\u001b[0m\u001b[0;34m,\u001b[0m \u001b[0maxis\u001b[0m\u001b[0;34m=\u001b[0m\u001b[0maxis\u001b[0m\u001b[0;34m)\u001b[0m\u001b[0;34m\u001b[0m\u001b[0;34m\u001b[0m\u001b[0m\n\u001b[0m\u001b[1;32m    932\u001b[0m \u001b[0;34m\u001b[0m\u001b[0m\n\u001b[1;32m    933\u001b[0m     \u001b[0;32mdef\u001b[0m \u001b[0m_is_scalar_access\u001b[0m\u001b[0;34m(\u001b[0m\u001b[0mself\u001b[0m\u001b[0;34m,\u001b[0m \u001b[0mkey\u001b[0m\u001b[0;34m:\u001b[0m \u001b[0mtuple\u001b[0m\u001b[0;34m)\u001b[0m\u001b[0;34m:\u001b[0m\u001b[0;34m\u001b[0m\u001b[0;34m\u001b[0m\u001b[0m\n",
            "\u001b[0;32m/usr/local/lib/python3.7/site-packages/pandas/core/indexing.py\u001b[0m in \u001b[0;36m_getitem_axis\u001b[0;34m(self, key, axis)\u001b[0m\n\u001b[1;32m   1151\u001b[0m                     \u001b[0;32mraise\u001b[0m \u001b[0mValueError\u001b[0m\u001b[0;34m(\u001b[0m\u001b[0;34m\"Cannot index with multidimensional key\"\u001b[0m\u001b[0;34m)\u001b[0m\u001b[0;34m\u001b[0m\u001b[0;34m\u001b[0m\u001b[0m\n\u001b[1;32m   1152\u001b[0m \u001b[0;34m\u001b[0m\u001b[0m\n\u001b[0;32m-> 1153\u001b[0;31m                 \u001b[0;32mreturn\u001b[0m \u001b[0mself\u001b[0m\u001b[0;34m.\u001b[0m\u001b[0m_getitem_iterable\u001b[0m\u001b[0;34m(\u001b[0m\u001b[0mkey\u001b[0m\u001b[0;34m,\u001b[0m \u001b[0maxis\u001b[0m\u001b[0;34m=\u001b[0m\u001b[0maxis\u001b[0m\u001b[0;34m)\u001b[0m\u001b[0;34m\u001b[0m\u001b[0;34m\u001b[0m\u001b[0m\n\u001b[0m\u001b[1;32m   1154\u001b[0m \u001b[0;34m\u001b[0m\u001b[0m\n\u001b[1;32m   1155\u001b[0m             \u001b[0;31m# nested tuple slicing\u001b[0m\u001b[0;34m\u001b[0m\u001b[0;34m\u001b[0m\u001b[0;34m\u001b[0m\u001b[0m\n",
            "\u001b[0;32m/usr/local/lib/python3.7/site-packages/pandas/core/indexing.py\u001b[0m in \u001b[0;36m_getitem_iterable\u001b[0;34m(self, key, axis)\u001b[0m\n\u001b[1;32m   1091\u001b[0m \u001b[0;34m\u001b[0m\u001b[0m\n\u001b[1;32m   1092\u001b[0m         \u001b[0;31m# A collection of keys\u001b[0m\u001b[0;34m\u001b[0m\u001b[0;34m\u001b[0m\u001b[0;34m\u001b[0m\u001b[0m\n\u001b[0;32m-> 1093\u001b[0;31m         \u001b[0mkeyarr\u001b[0m\u001b[0;34m,\u001b[0m \u001b[0mindexer\u001b[0m \u001b[0;34m=\u001b[0m \u001b[0mself\u001b[0m\u001b[0;34m.\u001b[0m\u001b[0m_get_listlike_indexer\u001b[0m\u001b[0;34m(\u001b[0m\u001b[0mkey\u001b[0m\u001b[0;34m,\u001b[0m \u001b[0maxis\u001b[0m\u001b[0;34m)\u001b[0m\u001b[0;34m\u001b[0m\u001b[0;34m\u001b[0m\u001b[0m\n\u001b[0m\u001b[1;32m   1094\u001b[0m         return self.obj._reindex_with_indexers(\n\u001b[1;32m   1095\u001b[0m             \u001b[0;34m{\u001b[0m\u001b[0maxis\u001b[0m\u001b[0;34m:\u001b[0m \u001b[0;34m[\u001b[0m\u001b[0mkeyarr\u001b[0m\u001b[0;34m,\u001b[0m \u001b[0mindexer\u001b[0m\u001b[0;34m]\u001b[0m\u001b[0;34m}\u001b[0m\u001b[0;34m,\u001b[0m \u001b[0mcopy\u001b[0m\u001b[0;34m=\u001b[0m\u001b[0;32mTrue\u001b[0m\u001b[0;34m,\u001b[0m \u001b[0mallow_dups\u001b[0m\u001b[0;34m=\u001b[0m\u001b[0;32mTrue\u001b[0m\u001b[0;34m\u001b[0m\u001b[0;34m\u001b[0m\u001b[0m\n",
            "\u001b[0;32m/usr/local/lib/python3.7/site-packages/pandas/core/indexing.py\u001b[0m in \u001b[0;36m_get_listlike_indexer\u001b[0;34m(self, key, axis)\u001b[0m\n\u001b[1;32m   1312\u001b[0m             \u001b[0mkeyarr\u001b[0m\u001b[0;34m,\u001b[0m \u001b[0mindexer\u001b[0m\u001b[0;34m,\u001b[0m \u001b[0mnew_indexer\u001b[0m \u001b[0;34m=\u001b[0m \u001b[0max\u001b[0m\u001b[0;34m.\u001b[0m\u001b[0m_reindex_non_unique\u001b[0m\u001b[0;34m(\u001b[0m\u001b[0mkeyarr\u001b[0m\u001b[0;34m)\u001b[0m\u001b[0;34m\u001b[0m\u001b[0;34m\u001b[0m\u001b[0m\n\u001b[1;32m   1313\u001b[0m \u001b[0;34m\u001b[0m\u001b[0m\n\u001b[0;32m-> 1314\u001b[0;31m         \u001b[0mself\u001b[0m\u001b[0;34m.\u001b[0m\u001b[0m_validate_read_indexer\u001b[0m\u001b[0;34m(\u001b[0m\u001b[0mkeyarr\u001b[0m\u001b[0;34m,\u001b[0m \u001b[0mindexer\u001b[0m\u001b[0;34m,\u001b[0m \u001b[0maxis\u001b[0m\u001b[0;34m)\u001b[0m\u001b[0;34m\u001b[0m\u001b[0;34m\u001b[0m\u001b[0m\n\u001b[0m\u001b[1;32m   1315\u001b[0m \u001b[0;34m\u001b[0m\u001b[0m\n\u001b[1;32m   1316\u001b[0m         if needs_i8_conversion(ax.dtype) or isinstance(\n",
            "\u001b[0;32m/usr/local/lib/python3.7/site-packages/pandas/core/indexing.py\u001b[0m in \u001b[0;36m_validate_read_indexer\u001b[0;34m(self, key, indexer, axis)\u001b[0m\n\u001b[1;32m   1372\u001b[0m                 \u001b[0;32mif\u001b[0m \u001b[0muse_interval_msg\u001b[0m\u001b[0;34m:\u001b[0m\u001b[0;34m\u001b[0m\u001b[0;34m\u001b[0m\u001b[0m\n\u001b[1;32m   1373\u001b[0m                     \u001b[0mkey\u001b[0m \u001b[0;34m=\u001b[0m \u001b[0mlist\u001b[0m\u001b[0;34m(\u001b[0m\u001b[0mkey\u001b[0m\u001b[0;34m)\u001b[0m\u001b[0;34m\u001b[0m\u001b[0;34m\u001b[0m\u001b[0m\n\u001b[0;32m-> 1374\u001b[0;31m                 \u001b[0;32mraise\u001b[0m \u001b[0mKeyError\u001b[0m\u001b[0;34m(\u001b[0m\u001b[0;34mf\"None of [{key}] are in the [{axis_name}]\"\u001b[0m\u001b[0;34m)\u001b[0m\u001b[0;34m\u001b[0m\u001b[0;34m\u001b[0m\u001b[0m\n\u001b[0m\u001b[1;32m   1375\u001b[0m \u001b[0;34m\u001b[0m\u001b[0m\n\u001b[1;32m   1376\u001b[0m             \u001b[0mnot_found\u001b[0m \u001b[0;34m=\u001b[0m \u001b[0mlist\u001b[0m\u001b[0;34m(\u001b[0m\u001b[0mensure_index\u001b[0m\u001b[0;34m(\u001b[0m\u001b[0mkey\u001b[0m\u001b[0;34m)\u001b[0m\u001b[0;34m[\u001b[0m\u001b[0mmissing_mask\u001b[0m\u001b[0;34m.\u001b[0m\u001b[0mnonzero\u001b[0m\u001b[0;34m(\u001b[0m\u001b[0;34m)\u001b[0m\u001b[0;34m[\u001b[0m\u001b[0;36m0\u001b[0m\u001b[0;34m]\u001b[0m\u001b[0;34m]\u001b[0m\u001b[0;34m.\u001b[0m\u001b[0munique\u001b[0m\u001b[0;34m(\u001b[0m\u001b[0;34m)\u001b[0m\u001b[0;34m)\u001b[0m\u001b[0;34m\u001b[0m\u001b[0;34m\u001b[0m\u001b[0m\n",
            "\u001b[0;31mKeyError\u001b[0m: \"None of [Int64Index([     0,      1,      2,      3,      4,      5,      6,      7,\\n                 8,      9,\\n            ...\\n            956218, 956220, 956222, 956223, 956224, 956225, 956226, 956227,\\n            956228, 956230],\\n           dtype='int64', name='observation_id', length=1587395)] are in the [index]\""
          ]
        }
      ]
    },
    {
      "cell_type": "code",
      "source": [
        "from sklearn.ensemble import RandomForestClassifier\n",
        "est = RandomForestClassifier(n_estimators=16, max_depth=10, n_jobs=-1)\n",
        "est.fit(X_train, y_train)"
      ],
      "metadata": {
        "id": "Y3o15JCfIvCc"
      },
      "execution_count": null,
      "outputs": []
    }
  ]
}