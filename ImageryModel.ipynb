{
  "nbformat": 4,
  "nbformat_minor": 0,
  "metadata": {
    "colab": {
      "name": "ImageryModel.ipynb",
      "provenance": [],
      "collapsed_sections": [],
      "mount_file_id": "1H8jR0KQA5sDS_mp7NBd_-EWo1lpVh6TM",
      "authorship_tag": "ABX9TyMR7tTUq/94Sti/M/Uzf0gu",
      "include_colab_link": true
    },
    "kernelspec": {
      "name": "python3",
      "display_name": "Python 3"
    },
    "language_info": {
      "name": "python"
    }
  },
  "cells": [
    {
      "cell_type": "markdown",
      "metadata": {
        "id": "view-in-github",
        "colab_type": "text"
      },
      "source": [
        "<a href=\"https://colab.research.google.com/github/benwichmann/GLC2022_FinalProject/blob/main/ImageryModel.ipynb\" target=\"_parent\"><img src=\"https://colab.research.google.com/assets/colab-badge.svg\" alt=\"Open In Colab\"/></a>"
      ]
    },
    {
      "cell_type": "markdown",
      "source": [
        "#Setup Enviroment"
      ],
      "metadata": {
        "id": "_JH7xhVPB6GE"
      }
    },
    {
      "cell_type": "code",
      "execution_count": 1,
      "metadata": {
        "colab": {
          "base_uri": "https://localhost:8080/"
        },
        "id": "Zm2sqnlvBTey",
        "outputId": "58f61b0e-a6f4-43fb-8ffe-0523da660fdb"
      },
      "outputs": [
        {
          "output_type": "stream",
          "name": "stdout",
          "text": [
            "⏬ Downloading https://github.com/jaimergp/miniforge/releases/latest/download/Mambaforge-colab-Linux-x86_64.sh...\n",
            "📦 Installing...\n",
            "📌 Adjusting configuration...\n",
            "🩹 Patching environment...\n",
            "⏲ Done in 0:00:53\n",
            "🔁 Restarting kernel...\n"
          ]
        }
      ],
      "source": [
        "!pip install -q condacolab\n",
        "import condacolab\n",
        "condacolab.install()"
      ]
    },
    {
      "cell_type": "code",
      "source": [
        "!conda --version\n",
        "!which conda"
      ],
      "metadata": {
        "colab": {
          "base_uri": "https://localhost:8080/"
        },
        "id": "OWw9uu55BcY5",
        "outputId": "aa3e0a83-3db4-4f10-ee58-649f7adab778"
      },
      "execution_count": 1,
      "outputs": [
        {
          "output_type": "stream",
          "name": "stdout",
          "text": [
            "conda 4.9.2\n",
            "/usr/local/bin/conda\n"
          ]
        }
      ]
    },
    {
      "cell_type": "code",
      "source": [
        "#!conda create --name firstEnv\n",
        "\n",
        "#!conda env update -n base -f environment.yml\n",
        "# activate your conda environment\n",
        "%%bash\n",
        "source activate firstEnv\n",
        "python\n",
        "\n",
        "# python commands are ready to run within your environment\n",
        "import sys\n",
        "print(\"Python version\")\n",
        "print (sys.version)"
      ],
      "metadata": {
        "colab": {
          "base_uri": "https://localhost:8080/"
        },
        "id": "wXB5GTIRBeI9",
        "outputId": "c4aed27d-873d-4643-c72d-02b9c56d72a5"
      },
      "execution_count": 2,
      "outputs": [
        {
          "output_type": "stream",
          "name": "stdout",
          "text": [
            "Python version\n",
            "3.7.10 | packaged by conda-forge | (default, Feb 19 2021, 16:07:37) \n",
            "[GCC 9.3.0]\n"
          ]
        },
        {
          "output_type": "stream",
          "name": "stderr",
          "text": [
            "Could not find conda environment: firstEnv\n",
            "You can list all discoverable environments with `conda info --envs`.\n",
            "\n"
          ]
        }
      ]
    },
    {
      "cell_type": "code",
      "source": [
        "!rm -rf GLC2022_FinalProject\n",
        "!git clone https://github.com/benwichmann/GLC2022_FinalProject.git"
      ],
      "metadata": {
        "colab": {
          "base_uri": "https://localhost:8080/"
        },
        "id": "-DKNAHfMBfwp",
        "outputId": "505bc668-8980-4c0b-b5a7-a23459e72b3e"
      },
      "execution_count": 3,
      "outputs": [
        {
          "output_type": "stream",
          "name": "stdout",
          "text": [
            "Cloning into 'GLC2022_FinalProject'...\n",
            "remote: Enumerating objects: 65, done.\u001b[K\n",
            "remote: Counting objects: 100% (65/65), done.\u001b[K\n",
            "remote: Compressing objects: 100% (57/57), done.\u001b[K\n",
            "remote: Total 65 (delta 10), reused 50 (delta 5), pack-reused 0\u001b[K\n",
            "Unpacking objects: 100% (65/65), done.\n"
          ]
        }
      ]
    },
    {
      "cell_type": "code",
      "source": [
        "!pip install -r GLC2022_FinalProject/requirements2.txt"
      ],
      "metadata": {
        "id": "4mg7Q7IwBhVG"
      },
      "execution_count": null,
      "outputs": []
    },
    {
      "cell_type": "code",
      "source": [
        "!pip uninstall -y shapely\n",
        "!pip install shapely --no-binary shapely"
      ],
      "metadata": {
        "id": "77HXsrWGBinb"
      },
      "execution_count": null,
      "outputs": []
    },
    {
      "cell_type": "code",
      "source": [
        "%pylab inline --no-import-all\n",
        "from pathlib import Path\n",
        "DATA_PATH = Path(\"/content/drive/MyDrive/ds3/\")\n",
        "\n",
        "import matplotlib.pyplot as plt\n",
        "%matplotlib inline\n",
        "import rasterio\n",
        "import numpy as np\n",
        "import os\n",
        "import pandas as pd\n",
        "from sklearn.ensemble import RandomForestClassifier\n",
        "from sklearn.model_selection import train_test_split\n",
        "\n",
        "from GLC2022_FinalProject.GLC.plotting import plot_map\n",
        "from GLC2022_FinalProject.GLC.data_loading.environmental_raster import PatchExtractor\n",
        "\n",
        "import torch.nn as nn\n",
        "import torch.optim as optim\n",
        "from torchvision import datasets, transforms\n",
        "import torch.nn.functional as F\n",
        "\n"
      ],
      "metadata": {
        "colab": {
          "base_uri": "https://localhost:8080/"
        },
        "id": "O_ynmvwZBp7d",
        "outputId": "c60ba86c-7a9d-4ecd-e069-2878323ce1f0"
      },
      "execution_count": 8,
      "outputs": [
        {
          "output_type": "stream",
          "name": "stdout",
          "text": [
            "Populating the interactive namespace from numpy and matplotlib\n"
          ]
        }
      ]
    },
    {
      "cell_type": "code",
      "source": [
        ""
      ],
      "metadata": {
        "id": "DcyjRJ5oCLUq"
      },
      "execution_count": null,
      "outputs": []
    },
    {
      "cell_type": "markdown",
      "source": [
        "#Perform Visualizaion"
      ],
      "metadata": {
        "id": "AF1zhyUAB_e8"
      }
    },
    {
      "cell_type": "code",
      "source": [
        "DATA_PATH = Path(\"/content/drive/MyDrive/ds3/\")\n",
        "\n",
        "df_obs_us = pd.read_csv(DATA_PATH / \"observations\" / \"observations_us_train.csv\", sep=\";\")#, index_col=\"observation_id\")\n",
        "df_obs_fr = pd.read_csv(DATA_PATH / \"observations\" / \"observations_fr_train.csv\", sep=\";\")#, index_col=\"observation_id\")\n",
        "df_obs = pd.concat((df_obs_fr, df_obs_us))\n",
        "print(\"Number of observations for training FR: {}\".format(len(df_obs_us)))\n",
        "print(\"Number of observations for training US: {}\".format(len(df_obs_fr)))\n",
        "print(\"Number of observations for testingtot: {}\".format(len(df_obs)))"
      ],
      "metadata": {
        "id": "P-CjYn1mB0HU"
      },
      "execution_count": null,
      "outputs": []
    },
    {
      "cell_type": "code",
      "source": [
        "from GLC2022_FinalProject.GLC.plotting import plot_map\n",
        "\n",
        "\n",
        "def plot_observations_distribution(ax, df_obs, df_obs_test=None, **kwargs):\n",
        "    default_kwargs = {\n",
        "        \"zorder\": 1,\n",
        "        \"alpha\": 0.1,\n",
        "        \"s\": 0.5\n",
        "    }\n",
        "    default_kwargs.update(kwargs)\n",
        "    kwargs = default_kwargs\n",
        "    \n",
        "    ax.scatter(df_obs.longitude, df_obs.latitude, color=\"blue\", **kwargs)\n",
        "    \n",
        "    if df_obs_test is not None:\n",
        "        ax.scatter(df_obs_test.longitude, df_obs_test.latitude, color=\"red\", **kwargs)\n",
        "\n",
        "\n",
        "fig = plt.figure(figsize=(10, 5.5))\n",
        "ax = plot_map(region=\"us\")\n",
        "plot_observations_distribution(ax, df_obs_us, df_obs_us_test)\n",
        "ax.set_title(\"Observations distribution (US)\")\n",
        "\n",
        "fig = plt.figure(figsize=(8, 8))\n",
        "ax = plot_map(region=\"fr\")\n",
        "plot_observations_distribution(ax, df_obs_fr, df_obs_fr_test)\n",
        "ax.set_title(\"Observations distribution (France)\")"
      ],
      "metadata": {
        "id": "YBbJkEWfB-bb"
      },
      "execution_count": null,
      "outputs": []
    }
  ]
}